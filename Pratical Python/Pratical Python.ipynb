{
 "cells": [
  {
   "cell_type": "markdown",
   "id": "48751c0d-abd2-4d43-9544-5964e430ba04",
   "metadata": {},
   "source": [
    "# 1.1 Python\n",
    "\n",
    "### What is Python?\n",
    "\n",
    "Python is an interpreted high level programming language. It is often classified as a\n",
    "[\"scripting language\"](https://en.wikipedia.org/wiki/Scripting_language) and\n",
    "is considered similar to languages such as Perl, Tcl, or Ruby. The syntax\n",
    "of Python is loosely inspired by elements of C programming.\n",
    "\n",
    "Python was created by Guido van Rossum around 1990 who named it in honor of Monty Python.\n",
    "\n",
    "### Where to get Python?\n",
    "\n",
    "[Python.org](https://www.python.org/) is where you obtain Python. For the purposes of this course, you\n",
    "only need a basic installation. I recommend installing Python 3.6 or newer. Python 3.6 is used in the notes\n",
    "and solutions.\n",
    "\n",
    "### Why was Python created?\n",
    "\n",
    "In the words of Python's creator:\n",
    "\n",
    "> My original motivation for creating Python was the perceived need\n",
    "> for a higher level language in the Amoeba [Operating Systems]\n",
    "> project. I realized that the development of system administration\n",
    "> utilities in C was taking too long. Moreover, doing these things in\n",
    "> the Bourne shell wouldn't work for a variety of reasons. ... So,\n",
    "> there was a need for a language that would bridge the gap between C\n",
    "> and the shell.\n",
    ">\n",
    "> - Guido van Rossum\n",
    "\n",
    "### Where is Python on my Machine?\n",
    "\n",
    "Although there are many environments in which you might run Python,\n",
    "Python is typically installed on your machine as a program that runs\n",
    "from the terminal or command shell. From the terminal, you should be\n",
    "able to type `python` like this:\n",
    "\n",
    "```\n",
    "bash $ python\n",
    "Python 3.8.1 (default, Feb 20 2020, 09:29:22)\n",
    "[Clang 10.0.0 (clang-1000.10.44.4)] on darwin\n",
    "Type \"help\", \"copyright\", \"credits\" or \"license\" for more information.\n",
    ">>> print(\"hello world\")\n",
    "hello world\n",
    ">>>\n",
    "```\n",
    "\n",
    "If you are new to using the shell or a terminal, you should probably\n",
    "stop, finish a short tutorial on that first, and then return here.\n",
    "\n",
    "Although there are many non-shell environments where you can code\n",
    "Python, you will be a stronger Python programmer if you are able to\n",
    "run, debug, and interact with Python at the terminal. This is\n",
    "Python's native environment. If you are able to use Python here, you\n",
    "will be able to use it everywhere else.\n"
   ]
  },
  {
   "cell_type": "markdown",
   "id": "d24abfe7-1b5d-4081-b054-411d76dcb92d",
   "metadata": {},
   "source": [
    "## Exercises\n",
    "\n",
    "### Exercise 1.1: Using Python as a Calculator\n",
    "\n",
    "On your machine, start Python and use it as a calculator to solve the\n",
    "following problem.\n",
    "\n",
    "Lucky Larry bought 75 shares of Google stock at a price of $235.14 per\n",
    "share. Today, shares of Google are priced at $711.25. Using Python’s\n",
    "interactive mode as a calculator, figure out how much profit Larry would\n",
    "make if he sold all of his shares.\n",
    "\n",
    "```python\n",
    ">>> (711.25 - 235.14) * 75\n",
    "35708.25\n",
    ">>>\n",
    "```\n",
    "\n",
    "Pro-tip: Use the underscore (\\_) variable to use the result of the last\n",
    "calculation. For example, how much profit does Larry make after his evil\n",
    "broker takes their 20% cut?\n",
    "\n",
    "```python\n",
    ">>> _ * 0.80\n",
    "28566.600000000002\n",
    ">>>\n",
    "```\n",
    "\n",
    "### Exercise 1.2: Getting help\n",
    "\n",
    "Use the `help()` command to get help on the `abs()` function. Then use\n",
    "`help()` to get help on the `round()` function. Type `help()` just by\n",
    "itself with no value to enter the interactive help viewer.\n",
    "\n",
    "One caution with `help()` is that it doesn’t work for basic Python\n",
    "statements such as `for`, `if`, `while`, and so forth (i.e., if you type\n",
    "`help(for)` you’ll get a syntax error). You can try putting the help\n",
    "topic in quotes such as `help(\"for\")` instead. If that doesn’t work,\n",
    "you’ll have to turn to an internet search.\n",
    "\n",
    "Followup: Go to <http://docs.python.org> and find the documentation for\n",
    "the `abs()` function (hint: it’s found under the library reference\n",
    "related to built-in functions).\n",
    "\n",
    "### Exercise 1.3: Cutting and Pasting\n",
    "\n",
    "This course is structured as a series of traditional web pages where\n",
    "you are encouraged to try interactive Python code samples **by typing\n",
    "them out by hand.** If you are learning Python for the first time,\n",
    "this \"slow approach\" is encouraged. You will get a better feel for\n",
    "the language by slowing down, typing things in, and thinking about\n",
    "what you are doing.\n",
    "\n",
    "If you must \"cut and paste\" code samples, select code\n",
    "starting after the `>>>` prompt and going up to, but not any further\n",
    "than the first blank line or the next `>>>` prompt (whichever appears\n",
    "first). Select \"copy\" from the browser, go to the Python window, and\n",
    "select \"paste\" to copy it into the Python shell. To get the code to\n",
    "run, you may have to hit \"Return\" once after you’ve pasted it in.\n",
    "\n",
    "Use cut-and-paste to execute the Python statements in this session:\n",
    "\n",
    "```python\n",
    ">>> 12 + 20\n",
    "32\n",
    ">>> (3 + 4\n",
    "         + 5 + 6)\n",
    "18\n",
    ">>> for i in range(5):\n",
    "        print(i)\n",
    "\n",
    "0\n",
    "1\n",
    "2\n",
    "3\n",
    "4\n",
    ">>>\n",
    "```\n",
    "\n",
    "Warning: It is never possible to paste more than one Python command\n",
    "(statements that appear after `>>>`) to the basic Python shell at a\n",
    "time. You have to paste each command one at a time.\n",
    "\n",
    "Now that you've done this, just remember that you will get more out of\n",
    "the class by typing in code slowly and thinking about it--not cut and pasting.\n"
   ]
  },
  {
   "cell_type": "markdown",
   "id": "f2598e82-6c6f-4ac4-b164-6dd2f38ebdb6",
   "metadata": {},
   "source": [
    "# 1.2 A First Program\n",
    "\n",
    "This section discusses the creation of your first program, running the\n",
    "interpreter, and some basic debugging.\n",
    "\n",
    "### Running Python\n",
    "\n",
    "Python programs always run inside an interpreter.\n",
    "\n",
    "The interpreter is a \"console-based\" application that normally runs\n",
    "from a command shell.\n",
    "\n",
    "```bash\n",
    "python3\n",
    "Python 3.6.1 (v3.6.1:69c0db5050, Mar 21 2017, 01:21:04)\n",
    "[GCC 4.2.1 (Apple Inc. build 5666) (dot 3)] on darwin\n",
    "Type \"help\", \"copyright\", \"credits\" or \"license\" for more information.\n",
    ">>>\n",
    "```\n",
    "\n",
    "Expert programmers usually have no problem using the interpreter in\n",
    "this way, but it's not so user-friendly for beginners.  You may be using\n",
    "an environment that provides a different interface to Python.  That's fine,\n",
    "but learning how to run Python terminal is still a useful skill to know.\n",
    "\n",
    "### Interactive Mode\n",
    "\n",
    "When you start Python, you get an *interactive* mode where you can experiment.\n",
    "\n",
    "If you start typing statements, they will run immediately. There is no\n",
    "edit/compile/run/debug cycle.\n",
    "\n",
    "```python\n",
    ">>> print('hello world')\n",
    "hello world\n",
    ">>> 37*42\n",
    "1554\n",
    ">>> for i in range(5):\n",
    "...     print(i)\n",
    "...\n",
    "0\n",
    "1\n",
    "2\n",
    "3\n",
    "4\n",
    ">>>\n",
    "```\n",
    "\n",
    "This so-called *read-eval-print-loop* (or REPL) is very useful for debugging and exploration.\n",
    "\n",
    "**STOP**: If you can't figure out how to interact with Python, stop what you're doing\n",
    "and figure out how to do it.  If you're using an IDE, it might be hidden behind a\n",
    "menu option or other window.  Many parts of this course assume that you can\n",
    "interact with the interpreter.\n",
    "\n",
    "Let's take a closer look at the elements of the REPL:\n",
    "\n",
    "- `>>>` is the interpreter prompt for starting a new statement.\n",
    "- `...` is the interpreter prompt for continuing a statement. Enter a blank line to finish typing and run what you've entered.\n",
    "\n",
    "The `...` prompt may or may not be shown depending on your environment. For this course,\n",
    "it is shown as blanks to make it easier to cut/paste code samples.\n",
    "\n",
    "The underscore `_` holds the last result.\n",
    "\n",
    "```python\n",
    ">>> 37 * 42\n",
    "1554\n",
    ">>> _ * 2\n",
    "3108\n",
    ">>> _ + 50\n",
    "3158\n",
    ">>>\n",
    "```\n",
    "\n",
    "*This is only true in the interactive mode.* You never use `_` in a program."
   ]
  },
  {
   "cell_type": "markdown",
   "id": "1e69cddf-862e-4eda-90fd-69d485d3aea3",
   "metadata": {},
   "source": [
    "### Creating programs"
   ]
  },
  {
   "cell_type": "markdown",
   "id": "6e642c9a-460a-4bd4-b4a4-1d4b0886401e",
   "metadata": {},
   "source": [
    "Programs are put in .py files."
   ]
  },
  {
   "cell_type": "code",
   "execution_count": null,
   "id": "8aeefbc0-8a50-48e6-860f-3196ba438b9e",
   "metadata": {},
   "outputs": [],
   "source": [
    "# hello.py\n",
    "print('hello world')"
   ]
  },
  {
   "cell_type": "markdown",
   "id": "020dd882-610f-47c5-8c7c-9a8cbe2ed1e8",
   "metadata": {},
   "source": [
    "You can create these files with your favorite text editor."
   ]
  },
  {
   "cell_type": "markdown",
   "id": "4f83dacb-8274-42ec-b5be-8479aa7ffb4a",
   "metadata": {},
   "source": [
    "### Running Programs\n",
    "\n",
    "To execute a program, run it in the terminal with the `python` command.\n",
    "For example, in command-line Unix:\n",
    "\n",
    "```bash\n",
    "bash % python hello.py\n",
    "hello world\n",
    "bash %\n",
    "```\n",
    "\n",
    "Or from the Windows shell:\n",
    "\n",
    "```\n",
    "C:\\SomeFolder>hello.py\n",
    "hello world\n",
    "\n",
    "C:\\SomeFolder>c:\\python36\\python hello.py\n",
    "hello world\n",
    "```\n",
    "\n",
    "Note: On Windows, you may need to specify a full path to the Python interpreter such as `c:\\python36\\python`.\n",
    "However, if Python is installed in its usual way, you might be able to just type the name of the program\n",
    "such as `hello.py`."
   ]
  },
  {
   "cell_type": "markdown",
   "id": "cb4f15bf-63e5-4964-88d5-98e829b052f3",
   "metadata": {},
   "source": [
    "### Statements\n",
    "A python program is a sequence of statements:"
   ]
  },
  {
   "cell_type": "code",
   "execution_count": null,
   "id": "9b53efef-b0f7-4564-acf6-95dff169c7c2",
   "metadata": {},
   "outputs": [],
   "source": [
    "a = 3 + 4\n",
    "b = a * 2\n",
    "print(b)"
   ]
  },
  {
   "cell_type": "markdown",
   "id": "5111a1ec-e89f-4b8d-bca0-3bdc208c9a84",
   "metadata": {},
   "source": [
    "Each statement is terminated by a newline. Statements are executed one after the other until control reaches the end of the file."
   ]
  },
  {
   "cell_type": "markdown",
   "id": "244a5a3e-90d8-481c-9719-6a6fcc8c0fdc",
   "metadata": {},
   "source": [
    "### Comments\n",
    "Comments are text that will not be executed."
   ]
  },
  {
   "cell_type": "code",
   "execution_count": null,
   "id": "f2c17102-2e51-4ca2-a5cd-b8c279c2ae58",
   "metadata": {},
   "outputs": [],
   "source": [
    "a = 3 + 4\n",
    "# This is a comment\n",
    "b = a * 2\n",
    "print(b)"
   ]
  },
  {
   "cell_type": "markdown",
   "id": "a62944a8-bdac-4785-a9f3-6b7749296008",
   "metadata": {},
   "source": [
    "Comments are denoted by # and extend to the end of the line."
   ]
  },
  {
   "cell_type": "markdown",
   "id": "3dec1aeb-f31e-404f-99f6-3919b4c5934d",
   "metadata": {},
   "source": [
    "### Variables\n",
    "A variable is a name for a value. You can use letters (lower and upper-case) from a to z. As well as the character underscore _. Numbers can also be part of the name of a variable, except as the first character."
   ]
  },
  {
   "cell_type": "code",
   "execution_count": null,
   "id": "2744a875-4bce-4b54-8217-aca3868c25c1",
   "metadata": {},
   "outputs": [],
   "source": [
    "height = 442 # valid\n",
    "_height = 442 # valid\n",
    "height2 = 442 # valid\n",
    "2height = 442 # invalid"
   ]
  },
  {
   "cell_type": "markdown",
   "id": "8bac37a1-b0a4-4b7b-b8fc-770c4e223231",
   "metadata": {},
   "source": [
    "### Types\n",
    "Variables do not need to be declared with the type of the value. The type is associated with the value on the right hand side, not name of the variable."
   ]
  },
  {
   "cell_type": "code",
   "execution_count": null,
   "id": "d89664c4-e1a9-4ec1-929e-b02c600ff6b4",
   "metadata": {},
   "outputs": [],
   "source": [
    "height = 442           # An integer\n",
    "height = 442.0         # Floating point\n",
    "height = 'Really tall' # A string"
   ]
  },
  {
   "cell_type": "markdown",
   "id": "a33f34f6-8969-4e5d-8670-b46ad92afcb3",
   "metadata": {},
   "source": [
    "Python is dynamically typed. The perceived \"type\" of a variable might change as a program executes depending on the current value assigned to it."
   ]
  },
  {
   "cell_type": "markdown",
   "id": "3e1788cd-0f98-4813-8ac5-69fa32533490",
   "metadata": {},
   "source": [
    "### Case Sensitivity\n",
    "Python is case sensitive. Upper and lower-case letters are considered different letters. These are all different variables:"
   ]
  },
  {
   "cell_type": "code",
   "execution_count": null,
   "id": "f181eab1-225f-44e0-8f7d-eaac1c533439",
   "metadata": {},
   "outputs": [],
   "source": [
    "name = 'Jake'\n",
    "Name = 'Elwood'\n",
    "NAME = 'Guido'"
   ]
  },
  {
   "cell_type": "markdown",
   "id": "8012c24e-69bd-4fae-b4fb-48165cacf3c3",
   "metadata": {},
   "source": [
    "Language statements are always lower-case."
   ]
  },
  {
   "cell_type": "code",
   "execution_count": null,
   "id": "b1ef5c94-4d55-4198-b6a8-7e7fa53f5b0d",
   "metadata": {},
   "outputs": [],
   "source": [
    "while x < 0:   # OK\n",
    "WHILE x < 0:   # ERROR"
   ]
  },
  {
   "cell_type": "markdown",
   "id": "0d2a1fb1-21ee-4ee3-8bba-dc8dc456d312",
   "metadata": {},
   "source": [
    "### Looping\n",
    "The while statement executes a loop."
   ]
  },
  {
   "cell_type": "code",
   "execution_count": null,
   "id": "2f19be05-6242-4463-af3d-28ba9166943d",
   "metadata": {},
   "outputs": [],
   "source": [
    "while num_bills * bill_thickness < sears_height:\n",
    "    print(day, num_bills, num_bills * bill_thickness)\n",
    "    day = day + 1\n",
    "    num_bills = num_bills * 2\n",
    "\n",
    "print('Number of days', day)"
   ]
  },
  {
   "cell_type": "markdown",
   "id": "423663cd-f971-4208-88ef-bdaf2b70d6a4",
   "metadata": {},
   "source": [
    "The statements indented below the while will execute as long as the expression after the while is true."
   ]
  },
  {
   "cell_type": "markdown",
   "id": "e028af6e-e3de-4e68-a826-94875c3b30c1",
   "metadata": {},
   "source": [
    "### Indentation"
   ]
  },
  {
   "cell_type": "markdown",
   "id": "e6f25818-a682-400d-9a8a-3c23704a9dfb",
   "metadata": {},
   "source": [
    "Indentation is used to denote groups of statements that go together. Consider the previous example:"
   ]
  },
  {
   "cell_type": "code",
   "execution_count": null,
   "id": "dc296991-2f1d-4748-a9d4-0473fdca5c96",
   "metadata": {},
   "outputs": [],
   "source": [
    "while num_bills * bill_thickness < sears_height:\n",
    "    print(day, num_bills, num_bills * bill_thickness)\n",
    "    day = day + 1\n",
    "    num_bills = num_bills * 2\n",
    "\n",
    "print('Number of days', day)"
   ]
  },
  {
   "cell_type": "markdown",
   "id": "38d6b75d-41d6-4e51-ae33-965d78e80d76",
   "metadata": {},
   "source": [
    "Indentation groups the following statements together as the operations that repeat:"
   ]
  },
  {
   "cell_type": "code",
   "execution_count": null,
   "id": "45a2b013-ec23-4d8d-b5f5-a77bcf4b967b",
   "metadata": {},
   "outputs": [],
   "source": [
    " print(day, num_bills, num_bills * bill_thickness)\n",
    "    day = day + 1\n",
    "    num_bills = num_bills * 2"
   ]
  },
  {
   "cell_type": "markdown",
   "id": "84e4ceda-8eae-453b-a7d2-5b7ef499ff2d",
   "metadata": {},
   "source": [
    "Because the print() statement at the end is not indented, it does not belong to the loop. The empty line is just for readability. It does not affect the execution."
   ]
  },
  {
   "cell_type": "markdown",
   "id": "20178fd0-242e-4606-a872-dd2666d50cd6",
   "metadata": {},
   "source": [
    "### Indentation best practices\n",
    "\n",
    "* Use spaces instead of tabs.\n",
    "* Use 4 spaces per level.\n",
    "* Use a Python-aware editor.\n",
    "\n",
    "Python's only requirement is that indentation within the same block\n",
    "be consistent.   For example, this is an error:"
   ]
  },
  {
   "cell_type": "code",
   "execution_count": null,
   "id": "92a94666-975e-431b-a096-57a15a250548",
   "metadata": {},
   "outputs": [],
   "source": [
    "while num_bills * bill_thickness < sears_height:\n",
    "    print(day, num_bills, num_bills * bill_thickness)\n",
    "        day = day + 1 # ERROR\n",
    "    num_bills = num_bills * 2"
   ]
  },
  {
   "cell_type": "markdown",
   "id": "96b69882-417a-4d29-b6e9-07e9aaaec8db",
   "metadata": {},
   "source": [
    "### Conditionals\n",
    "The if statement is used to execute a conditional:"
   ]
  },
  {
   "cell_type": "code",
   "execution_count": null,
   "id": "c3ed4696-2045-4fac-b3a1-866d5b64c799",
   "metadata": {},
   "outputs": [],
   "source": [
    "if a > b:\n",
    "    print('Computer says no')\n",
    "else:\n",
    "    print('Computer says yes')"
   ]
  },
  {
   "cell_type": "markdown",
   "id": "26f5d268-a5a9-43ba-be40-5653fcb8e01c",
   "metadata": {},
   "source": [
    "You can check for multiple conditions by adding extra checks using elif."
   ]
  },
  {
   "cell_type": "code",
   "execution_count": null,
   "id": "105dbcc6-8450-4d42-acba-79f8f768f5f6",
   "metadata": {},
   "outputs": [],
   "source": [
    "if a > b:\n",
    "    print('Computer says no')\n",
    "elif a == b:\n",
    "    print('Computer says yes')\n",
    "else:\n",
    "    print('Computer says maybe')"
   ]
  },
  {
   "cell_type": "markdown",
   "id": "bd4348ee-a8fd-411b-ac46-745c03afc599",
   "metadata": {},
   "source": [
    "### Printing\n",
    "The print function produces a single line of text with the values passed."
   ]
  },
  {
   "cell_type": "code",
   "execution_count": null,
   "id": "2ab8283a-4cb6-41b2-af92-9205fedeff04",
   "metadata": {},
   "outputs": [],
   "source": [
    "print(\"Hello World!\") # Prints the text 'Hello world!'"
   ]
  },
  {
   "cell_type": "code",
   "execution_count": null,
   "id": "e352fd85-2f96-4fe6-974d-33c8fd6ab407",
   "metadata": {},
   "outputs": [],
   "source": [
    "# You can use variables. The text printed will be the value of the variable, not the name.\n",
    "\n",
    "x = 100\n",
    "print(x) # Prints the text '100'"
   ]
  },
  {
   "cell_type": "code",
   "execution_count": null,
   "id": "543f6542-d59d-4785-a884-156d3e47ab77",
   "metadata": {},
   "outputs": [],
   "source": [
    "# If you pass more than one value to print they are separated by spaces.\n",
    "\n",
    "name = 'Jake'\n",
    "print('My name is', name) # Print the text 'My name is Jake'"
   ]
  },
  {
   "cell_type": "markdown",
   "id": "f3c5aafd-c17e-4ca5-aed7-697fcbafe825",
   "metadata": {},
   "source": [
    "print() always puts a newline at the end."
   ]
  },
  {
   "cell_type": "code",
   "execution_count": null,
   "id": "7f43d6ec-a8ef-4e95-ae74-c897448461a7",
   "metadata": {},
   "outputs": [],
   "source": [
    "print('Hello')\n",
    "print('My name is', 'Jake')"
   ]
  },
  {
   "cell_type": "markdown",
   "id": "7d286805-4216-4cab-8b8a-2f271b3618c1",
   "metadata": {},
   "source": [
    "This prints:\n",
    "\n",
    "Hello\n",
    "My name is Jake\n",
    "The extra newline can be suppressed:"
   ]
  },
  {
   "cell_type": "code",
   "execution_count": null,
   "id": "e6ba083c-f91a-4b52-ae8f-13408a3511fd",
   "metadata": {},
   "outputs": [],
   "source": [
    "print('Hello', end=' ')\n",
    "print('My name is', 'Jake')"
   ]
  },
  {
   "cell_type": "markdown",
   "id": "af33a951-5c7c-4760-b6e7-e6d7bb84aef8",
   "metadata": {},
   "source": [
    "### User input\n",
    "To read a line of typed user input, use the input() function:"
   ]
  },
  {
   "cell_type": "code",
   "execution_count": null,
   "id": "944fc9f3-0126-472e-90d4-60f4ad244fc4",
   "metadata": {},
   "outputs": [],
   "source": [
    "name = input('Enter your name:')\n",
    "print('Your name is', name)"
   ]
  },
  {
   "cell_type": "markdown",
   "id": "7fae7379-f464-468b-b80a-b5c6a6271110",
   "metadata": {},
   "source": [
    "input prints a prompt to the user and returns their response. This is useful for small programs, learning exercises or simple debugging. It is not widely used for real programs."
   ]
  },
  {
   "cell_type": "markdown",
   "id": "7f647c98-67c9-4dc8-a857-326f86b6c728",
   "metadata": {},
   "source": [
    "### pass statement\n",
    "Sometimes you need to specify an empty code block. The keyword pass is used for it."
   ]
  },
  {
   "cell_type": "code",
   "execution_count": null,
   "id": "f1db11c8-b822-4838-b66a-7544b8d39efd",
   "metadata": {},
   "outputs": [],
   "source": [
    "if a > b:\n",
    "    pass\n",
    "else:\n",
    "    print('Computer says false')"
   ]
  },
  {
   "cell_type": "markdown",
   "id": "30689bed-fa2e-4561-b068-57a6d75d696e",
   "metadata": {},
   "source": [
    "This is also called a \"no-op\" statement. It does nothing. It serves as a placeholder for statements, possibly to be added later."
   ]
  },
  {
   "cell_type": "markdown",
   "id": "d5605d35-307f-45ec-8c1a-9281be257f52",
   "metadata": {},
   "source": [
    "## Exercises"
   ]
  },
  {
   "cell_type": "markdown",
   "id": "9fbaf696-505c-461a-9be1-c84d58cead73",
   "metadata": {},
   "source": [
    "## Exercise 1.5: The Bouncing Ball"
   ]
  },
  {
   "cell_type": "markdown",
   "id": "db865ada-5636-4853-8f44-73c3025e98eb",
   "metadata": {},
   "source": [
    "A rubber ball is dropped from a height of 100 meters and each time it hits the ground, it bounces back up to 3/5 the height it fell. Write a program bounce.py that prints a table showing the height of the first 10 bounces."
   ]
  },
  {
   "cell_type": "code",
   "execution_count": null,
   "id": "702bb23e-96a7-455a-b7f3-5bed9402aa32",
   "metadata": {},
   "outputs": [],
   "source": [
    "height = 100\n",
    "\n",
    "for i in range(10):\n",
    "    height = height * (3/5)\n",
    "    print(height)"
   ]
  },
  {
   "cell_type": "markdown",
   "id": "9d2cdff8-5cea-40e9-9b6e-254389ef8b6e",
   "metadata": {},
   "source": [
    "Note: You can clean up the output a bit if you use the round() function. Try using it to round the output to 4 digits."
   ]
  },
  {
   "cell_type": "code",
   "execution_count": null,
   "id": "900ca558-abab-4e70-ac28-313252231cbc",
   "metadata": {},
   "outputs": [],
   "source": [
    "help(\"round\")"
   ]
  },
  {
   "cell_type": "code",
   "execution_count": null,
   "id": "0167428a-cb0d-46e4-bfed-db5bc48c0f0f",
   "metadata": {},
   "outputs": [],
   "source": [
    "height = 100\n",
    "\n",
    "for i in range(10):\n",
    "    height = height * (3/5)\n",
    "    print(round(height,4))"
   ]
  },
  {
   "cell_type": "markdown",
   "id": "8cc0e2a0-aaeb-43b9-91a0-4f7a9f6ff315",
   "metadata": {},
   "source": [
    "## Exercise 1.6: Debugging\n",
    "The following code fragment contains code from the Sears tower problem. It also has a bug in it."
   ]
  },
  {
   "cell_type": "code",
   "execution_count": null,
   "id": "68dbb338-8e2e-48ac-9b89-d41944dbe853",
   "metadata": {},
   "outputs": [],
   "source": [
    "# sears.py\n",
    "\n",
    "bill_thickness = 0.11 * 0.001    # Meters (0.11 mm)\n",
    "sears_height   = 442             # Height (meters)\n",
    "num_bills      = 1\n",
    "day            = 1\n",
    "\n",
    "while num_bills * bill_thickness < sears_height:\n",
    "    print(day, num_bills, num_bills * bill_thickness)\n",
    "    day = days + 1\n",
    "    num_bills = num_bills * 2\n",
    "\n",
    "print('Number of days', day)\n",
    "print('Number of bills', num_bills)\n",
    "print('Final height', num_bills * bill_thickness)"
   ]
  },
  {
   "cell_type": "markdown",
   "id": "86e36b61-0656-421a-ab04-d601096bfbec",
   "metadata": {},
   "source": [
    "Copy and paste the code that appears above in a new program called sears.py. When you run the code you will get an error message that causes the program to crash like this:\n",
    "\n",
    "Traceback (most recent call last):\n",
    "  File \"sears.py\", line 10, in <module>\n",
    "    day = days + 1\n",
    "NameError: name 'days' is not defined\n",
    "Reading error messages is an important part of Python code. If your program crashes, the very last line of the traceback message is the actual reason why the the program crashed. Above that, you should see a fragment of source code and then an identifying filename and line number.\n",
    "\n",
    "Which line is the error?\n",
    "What is the error?\n",
    "Fix the error\n",
    "Run the program successfully"
   ]
  },
  {
   "cell_type": "markdown",
   "id": "5da70ff6-f06f-43ec-af7c-98f5c1bae366",
   "metadata": {},
   "source": [
    "## Correct code"
   ]
  },
  {
   "cell_type": "code",
   "execution_count": null,
   "id": "c0dac777-9b2d-4e47-b45c-0d125bb6c53b",
   "metadata": {},
   "outputs": [],
   "source": [
    "bill_thickness = 0.11 * 0.001    # Meters (0.11 mm)\n",
    "sears_height   = 442             # Height (meters)\n",
    "num_bills      = 1\n",
    "day            = 1\n",
    "\n",
    "while num_bills * bill_thickness < sears_height:\n",
    "    print(day, num_bills, num_bills * bill_thickness)\n",
    "    day = day + 1\n",
    "    num_bills = num_bills * 2\n",
    "\n",
    "print('Number of days', day)\n",
    "print('Number of bills', num_bills)\n",
    "print('Final height', num_bills * bill_thickness)"
   ]
  },
  {
   "cell_type": "markdown",
   "id": "7f271397-195e-40f2-8fa2-4b059ce8e258",
   "metadata": {},
   "source": [
    "# 1.3 Numbers"
   ]
  },
  {
   "cell_type": "markdown",
   "id": "bb7c4063-36ad-4ff7-b595-9c7806a16d3d",
   "metadata": {},
   "source": [
    "This section discusses mathematical calculations.\n",
    "\n",
    "Types of Numbers\n",
    "Python has 4 types of numbers:\n",
    "\n",
    "Booleans\n",
    "Integers\n",
    "Floating point\n",
    "Complex (imaginary numbers)\n",
    "Booleans (bool)\n",
    "Booleans have two values: True, False.\n",
    "\n",
    "a = True\n",
    "b = False\n",
    "Numerically, they're evaluated as integers with value 1, 0."
   ]
  },
  {
   "cell_type": "code",
   "execution_count": null,
   "id": "9d6df930-0a57-480d-86e5-8811b7923bf6",
   "metadata": {},
   "outputs": [],
   "source": [
    "c = 4 + True # 5\n",
    "d = False\n",
    "if d == 0:\n",
    "    print('d is False')"
   ]
  },
  {
   "cell_type": "markdown",
   "id": "c86a02f7-2cf4-4233-9c9f-19a4bcb47e05",
   "metadata": {},
   "source": [
    "But, don't write code like that. It would be odd."
   ]
  },
  {
   "cell_type": "markdown",
   "id": "b803c3e5-3a79-4c79-b798-aa9f7c2cf850",
   "metadata": {},
   "source": [
    "## Integers (int)\n",
    "Signed values of arbitrary size and base:"
   ]
  },
  {
   "cell_type": "code",
   "execution_count": null,
   "id": "7a546d76-16e7-4fc4-95b4-6ecc65b5746a",
   "metadata": {},
   "outputs": [],
   "source": [
    "a = 37\n",
    "b = -299392993727716627377128481812241231\n",
    "c = 0x7fa8      # Hexadecimal\n",
    "d = 0o253       # Octal\n",
    "e = 0b10001111  # Binary"
   ]
  },
  {
   "cell_type": "markdown",
   "id": "8e2fd3c8-ecd4-4944-8cee-b37472037436",
   "metadata": {},
   "source": [
    "Common operations:\n",
    "\n",
    "\n",
    "```\n",
    "x + y      Add\n",
    "x - y      Subtract\n",
    "x * y      Multiply\n",
    "x / y      Divide (produces a float)\n",
    "x // y     Floor Divide (produces an integer)\n",
    "x % y      Modulo (remainder)\n",
    "x ** y     Power\n",
    "x << n     Bit shift left\n",
    "x >> n     Bit shift right\n",
    "x & y      Bit-wise AND\n",
    "x | y      Bit-wise OR\n",
    "x ^ y      Bit-wise XOR\n",
    "~x         Bit-wise NOT\n",
    "abs(x)     Absolute value\n",
    "```"
   ]
  },
  {
   "cell_type": "markdown",
   "id": "e3b1d304-bce9-41b7-929e-115eaede9035",
   "metadata": {},
   "source": [
    "## Floating point (float)\n",
    "Use a decimal or exponential notation to specify a floating point value:"
   ]
  },
  {
   "cell_type": "code",
   "execution_count": null,
   "id": "0f8d7657-ee68-445a-aa5d-e0ef95d07ff0",
   "metadata": {},
   "outputs": [],
   "source": [
    "a = 37.45\n",
    "b = 4e5 # 4 x 10**5 or 400,000\n",
    "c = -1.345e-10"
   ]
  },
  {
   "cell_type": "markdown",
   "id": "eaf620d5-8504-4690-bf70-2a61f970ca57",
   "metadata": {},
   "source": [
    "Floats are represented as double precision using the native CPU representation [IEEE 754](https://en.wikipedia.org/wiki/IEEE_754).\n",
    "This is the same as the `double` type in the programming language C.\n",
    "\n",
    "> 17 digits of precision  \n",
    "> Exponent from -308 to 308\n",
    "\n",
    "Be aware that floating point numbers are inexact when representing decimals."
   ]
  },
  {
   "cell_type": "markdown",
   "id": "a2a5ac97-8bb6-4ff3-b6dc-ac28527dd292",
   "metadata": {},
   "source": [
    "\n",
    "```python\n",
    ">>> a = 2.1 + 4.2\n",
    ">>> a == 6.3\n",
    "False\n",
    ">>> a\n",
    "6.300000000000001\n",
    ">>>\n",
    "```"
   ]
  },
  {
   "cell_type": "markdown",
   "id": "d8af4ae2-a3c2-4029-a21b-78558a14a3f6",
   "metadata": {},
   "source": [
    "This is **not a Python issue**, but the underlying floating point hardware on the CPU."
   ]
  },
  {
   "cell_type": "markdown",
   "id": "9ea8002f-498b-417c-952a-0d4880482dff",
   "metadata": {},
   "source": [
    "#### Common Operations:"
   ]
  },
  {
   "cell_type": "markdown",
   "id": "0a611612-60ad-4b92-b9eb-43c1a1a1d621",
   "metadata": {},
   "source": [
    "```\n",
    "x + y      Add\n",
    "x - y      Subtract\n",
    "x * y      Multiply\n",
    "x / y      Divide\n",
    "x // y     Floor Divide\n",
    "x % y      Modulo\n",
    "x ** y     Power\n",
    "abs(x)     Absolute Value\n",
    "```\n",
    "\n",
    "These are the same operators as Integers, except for the bit-wise operators.\n",
    "Additional math functions are found in the `math` module."
   ]
  },
  {
   "cell_type": "code",
   "execution_count": null,
   "id": "d67e89c7-c7b4-4bd1-b186-f458d6f21170",
   "metadata": {},
   "outputs": [],
   "source": [
    "import math\n",
    "a = math.sqrt(x)\n",
    "b = math.sin(x)\n",
    "c = math.cos(x)\n",
    "d = math.tan(x)\n",
    "e = math.log(x)"
   ]
  },
  {
   "cell_type": "markdown",
   "id": "88f87f15-60e8-4c0c-a949-76eba65df292",
   "metadata": {},
   "source": [
    "#### Comparisons\n",
    "The following comparison / relational operators work with numbers:"
   ]
  },
  {
   "cell_type": "markdown",
   "id": "195882a0-91f5-419c-9afd-0350ac1de4f6",
   "metadata": {},
   "source": [
    "```\n",
    "x < y      Less than\n",
    "x <= y     Less than or equal\n",
    "x > y      Greater than\n",
    "x >= y     Greater than or equal\n",
    "x == y     Equal to\n",
    "x != y     Not equal to\n",
    "```"
   ]
  },
  {
   "cell_type": "markdown",
   "id": "9c66af91-25c7-4589-83b0-d54899f7854a",
   "metadata": {},
   "source": [
    "You can form more complex boolean expressions using\n",
    "\n",
    "`and`, `or`, `not`\n",
    "\n",
    "Here are a few examples:\n",
    "\n"
   ]
  },
  {
   "cell_type": "code",
   "execution_count": null,
   "id": "d8a76b88-dc0e-4230-b820-d40f04de2304",
   "metadata": {},
   "outputs": [],
   "source": [
    "if b >= a and b <= c:\n",
    "    print('b is between a and c')\n",
    "\n",
    "if not (b < a or b > c):\n",
    "    print('b is still between a and c')"
   ]
  },
  {
   "cell_type": "markdown",
   "id": "f6ee18ad-3888-44d9-b008-3039576c39b6",
   "metadata": {},
   "source": [
    "### Converting Numbers\n",
    "\n",
    "The type name can be used to convert values:"
   ]
  },
  {
   "cell_type": "code",
   "execution_count": null,
   "id": "f78d5a29-fe82-4c3c-8f0e-708cd26b72de",
   "metadata": {},
   "outputs": [],
   "source": [
    "a = int(x)    # Convert x to integer\n",
    "b = float(x)  # Convert x to float"
   ]
  },
  {
   "cell_type": "markdown",
   "id": "a6017a49-9980-4a8b-97ee-745ccde24558",
   "metadata": {},
   "source": [
    "Try it out.\n",
    "\n",
    "```python\n",
    ">>> a = 3.14159\n",
    ">>> int(a)\n",
    "3\n",
    ">>> b = '3.14159' # It also works with strings containing numbers\n",
    ">>> float(b)\n",
    "3.14159\n",
    ">>>\n",
    "```"
   ]
  },
  {
   "cell_type": "markdown",
   "id": "8358a2d7-0709-46ee-aeb4-864269e59cb4",
   "metadata": {},
   "source": [
    "### Exercise 1.7: Dave's mortgage\n",
    "\n",
    "Dave has decided to take out a 30-year fixed rate mortgage of $500,000\n",
    "with Guido’s Mortgage, Stock Investment, and Bitcoin trading\n",
    "corporation.  The interest rate is 5% and the monthly payment is\n",
    "$2684.11.\n",
    "\n",
    "Here is a program that calculates the total amount that Dave will have\n",
    "to pay over the life of the mortgage:"
   ]
  },
  {
   "cell_type": "code",
   "execution_count": null,
   "id": "7d1a1360-6c53-4d2e-ba96-dfbbe2991c55",
   "metadata": {},
   "outputs": [],
   "source": [
    "# mortgage.py\n",
    "\n",
    "principal = 500000.0\n",
    "rate = 0.05\n",
    "payment = 2684.11\n",
    "total_paid = 0.0\n",
    "i = 0 \n",
    "while principal > 0:\n",
    "    principal = principal * (1+rate/12) - payment\n",
    "    total_paid = total_paid + payment\n",
    "    \n",
    "\n",
    "print('Total paid', total_paid)"
   ]
  },
  {
   "cell_type": "markdown",
   "id": "443786e8-2080-4a39-953e-5658effbd12a",
   "metadata": {},
   "source": [
    "# 1.4 Strings\n",
    "\n",
    "This section introduces ways to work with text.\n",
    "\n",
    "### Representing Literal Text\n",
    "\n",
    "String literals are written in programs with quotes."
   ]
  },
  {
   "cell_type": "code",
   "execution_count": null,
   "id": "b31cff0b-d2d5-4f58-80d3-4fbabc9e795d",
   "metadata": {},
   "outputs": [],
   "source": [
    "# Single quote\n",
    "a = 'Yeah but no but yeah but...'\n",
    "\n",
    "# Double quote\n",
    "b = \"computer says no\"\n",
    "\n",
    "# Triple quotes\n",
    "c = '''\n",
    "Look into my eyes, look into my eyes, the eyes, the eyes, the eyes,\n",
    "not around the eyes,\n",
    "don't look around the eyes,\n",
    "look into my eyes, you're under.\n",
    "'''"
   ]
  },
  {
   "cell_type": "markdown",
   "id": "613c0477-f531-442d-87e7-6aae9b9290a7",
   "metadata": {},
   "source": [
    "Normally strings may only span a single line. Triple quotes capture all text enclosed across multiple lines\n",
    "including all formatting.\n",
    "\n",
    "There is no difference between using single (') versus double (\")\n",
    "quotes. *However, the same type of quote used to start a string must be used to\n",
    "terminate it*."
   ]
  },
  {
   "cell_type": "markdown",
   "id": "41bb4f28-009f-45da-bce1-c8e5b1f080ad",
   "metadata": {},
   "source": [
    "### String escape codes\n",
    "\n",
    "Escape codes are used to represent control characters and characters that can't be easily typed\n",
    "directly at the keyboard.  Here are some common escape codes:\n",
    "\n",
    "```\n",
    "'\\n'      Line feed\n",
    "'\\r'      Carriage return\n",
    "'\\t'      Tab\n",
    "'\\''      Literal single quote\n",
    "'\\\"'      Literal double quote\n",
    "'\\\\'      Literal backslash\n",
    "```\n",
    "\n",
    "### String Representation\n",
    "\n",
    "Each character in a string is stored internally as a so-called Unicode \"code-point\" which is\n",
    "an integer.  You can specify an exact code-point value using the following escape sequences:\n",
    "\n",
    "```python\n",
    "a = '\\xf1'          # a = 'ñ'\n",
    "b = '\\u2200'        # b = '∀'\n",
    "c = '\\U0001D122'    # c = '𝄢'\n",
    "d = '\\N{FOR ALL}'   # d = '∀'\n",
    "```\n",
    "\n",
    "The [Unicode Character Database](https://unicode.org/charts) is a reference for all\n",
    "available character codes.\n",
    "\n",
    "### String Indexing\n",
    "\n",
    "Strings work like an array for accessing individual characters. You use an integer index, starting at 0.\n",
    "Negative indices specify a position relative to the end of the string.\n"
   ]
  },
  {
   "cell_type": "code",
   "execution_count": null,
   "id": "a84249c3-8e4f-4ba8-82d2-c03110c16afe",
   "metadata": {},
   "outputs": [],
   "source": [
    "a = 'Hello world'\n",
    "b = a[0]          # 'H'\n",
    "c = a[4]          # 'o'\n",
    "d = a[-1]         # 'd' (end of string)"
   ]
  },
  {
   "cell_type": "markdown",
   "id": "d4ade590-823e-423a-a919-c62e0e20b0c9",
   "metadata": {},
   "source": [
    "You can also slice or select substrings specifying a range of indices with `:`.\n"
   ]
  },
  {
   "cell_type": "code",
   "execution_count": null,
   "id": "6c04ad55-73ae-4eda-ad14-543b7dccd357",
   "metadata": {},
   "outputs": [],
   "source": [
    "d = a[:5]     # 'Hello'\n",
    "e = a[6:]     # 'world'\n",
    "f = a[3:8]    # 'lo wo'\n",
    "g = a[-5:]    # 'world'"
   ]
  },
  {
   "cell_type": "markdown",
   "id": "d86bb8bb-19e3-4396-b357-40f2a99e7fc9",
   "metadata": {},
   "source": [
    "The character at the ending index is not included.  Missing indices assume the beginning or ending of the string.\n",
    "\n",
    "### String operations\n",
    "\n",
    "Concatenation, length, membership and replication."
   ]
  },
  {
   "cell_type": "code",
   "execution_count": null,
   "id": "e362e1fe-0177-436c-966e-585c6b7a2344",
   "metadata": {},
   "outputs": [],
   "source": [
    "# Concatenation (+)\n",
    "a = 'Hello' + 'World'   # 'HelloWorld'\n",
    "b = 'Say ' + a          # 'Say HelloWorld'\n",
    "\n",
    "# Length (len)\n",
    "s = 'Hello'\n",
    "len(s)                  # 5\n",
    "\n",
    "# Membership test (`in`, `not in`)\n",
    "t = 'e' in s            # True\n",
    "f = 'x' in s            # False\n",
    "g = 'hi' not in s       # True\n",
    "\n",
    "# Replication (s * n)\n",
    "rep = s * 5 "
   ]
  },
  {
   "cell_type": "markdown",
   "id": "119cbcf2-786a-49cc-bfaf-fbb94e66b395",
   "metadata": {},
   "source": [
    "### String methods\n",
    "\n",
    "Strings have methods that perform various operations with the string data.\n",
    "\n"
   ]
  },
  {
   "cell_type": "code",
   "execution_count": null,
   "id": "5a311263-c2ec-49e7-9a39-a4bed42ee082",
   "metadata": {},
   "outputs": [],
   "source": [
    "# Example: stripping any leading / trailing white space.\n",
    "\n",
    "s = '  Hello '\n",
    "t = s.strip()     # 'Hello'\n",
    "\n",
    "\n",
    "# Example: Case conversion.\n",
    "\n",
    "\n",
    "s = 'Hello'\n",
    "l = s.lower()     # 'hello'\n",
    "u = s.upper()     # 'HELLO'\n",
    "\n",
    "\n",
    "# Example: Replacing text.\n",
    "\n",
    "\n",
    "s = 'Hello world'\n",
    "t = s.replace('Hello' , 'Hallo')   # 'Hallo world'"
   ]
  },
  {
   "cell_type": "markdown",
   "id": "d62ca459-bca8-446f-94ff-1c9789258ba5",
   "metadata": {},
   "source": [
    "*More string methods:**\n",
    "\n",
    "Strings have a wide variety of other methods for testing and manipulating the text data.\n",
    "This is a small sample of methods:\n",
    "\n",
    "```python\n",
    "s.endswith(suffix)     # Check if string ends with suffix\n",
    "s.find(t)              # First occurrence of t in s\n",
    "s.index(t)             # First occurrence of t in s\n",
    "s.isalpha()            # Check if characters are alphabetic\n",
    "s.isdigit()            # Check if characters are numeric\n",
    "s.islower()            # Check if characters are lower-case\n",
    "s.isupper()            # Check if characters are upper-case\n",
    "s.join(slist)          # Join a list of strings using s as delimiter\n",
    "s.lower()              # Convert to lower case\n",
    "s.replace(old,new)     # Replace text\n",
    "s.rfind(t)             # Search for t from end of string\n",
    "s.rindex(t)            # Search for t from end of string\n",
    "s.split([delim])       # Split string into list of substrings\n",
    "s.startswith(prefix)   # Check if string starts with prefix\n",
    "s.strip()              # Strip leading/trailing space\n",
    "s.upper()              # Convert to upper case\n",
    "```\n"
   ]
  },
  {
   "cell_type": "markdown",
   "id": "5138ed20-78ac-464e-970d-d24099c32192",
   "metadata": {},
   "source": [
    "### String Mutability\n",
    "\n",
    "Strings are \"immutable\" or read-only.\n",
    "Once created, the value can't be changed.\n",
    "\n",
    "```python\n",
    ">>> s = 'Hello World'\n",
    ">>> s[1] = 'a'\n",
    "Traceback (most recent call last):\n",
    "File \"<stdin>\", line 1, in <module>\n",
    "TypeError: 'str' object does not support item assignment\n",
    ">>>\n",
    "```\n",
    "\n",
    "**All operations and methods that manipulate string data, always create new strings.**\n",
    "\n",
    "### String Conversions\n",
    "\n",
    "Use `str()` to convert any value to a string. The result is a string holding the\n",
    "same text that would have been produced by the `print()` statement.\n",
    "\n",
    "```python\n",
    ">>> x = 42\n",
    ">>> str(x)\n",
    "'42'\n",
    ">>>\n",
    "```\n",
    "\n",
    "### Byte Strings\n",
    "\n",
    "A string of 8-bit bytes, commonly encountered with low-level I/O, is written as follows:\n",
    "\n",
    "```python\n",
    "data = b'Hello World\\r\\n'\n",
    "```\n",
    "\n",
    "By putting a little b before the first quotation, you specify that it is a byte string as opposed to a text string.\n",
    "\n",
    "Most of the usual string operations work.\n",
    "\n",
    "```python\n",
    "len(data)                         # 13\n",
    "data[0:5]                         # b'Hello'\n",
    "data.replace(b'Hello', b'Cruel')  # b'Cruel World\\r\\n'\n",
    "```\n",
    "\n",
    "Indexing is a bit different because it returns byte values as integers.\n",
    "\n",
    "```python\n",
    "data[0]   # 72 (ASCII code for 'H')\n",
    "```\n",
    "\n",
    "Conversion to/from text strings.\n",
    "\n",
    "```python\n",
    "text = data.decode('utf-8') # bytes -> text\n",
    "data = text.encode('utf-8') # text -> bytes\n",
    "```\n",
    "\n",
    "The `'utf-8'` argument specifies a character encoding.  Other common\n",
    "values include `'ascii'` and `'latin1'`."
   ]
  },
  {
   "cell_type": "markdown",
   "id": "ad14da4d-0235-4015-827b-2aa0b1490963",
   "metadata": {},
   "source": [
    "### Raw Strings\n",
    "\n",
    "Raw strings are string literals with an uninterpreted backslash. They\n",
    "are specified by prefixing the initial quote with a lowercase \"r\".\n",
    "\n",
    "```python\n",
    ">>> rs = r'c:\\newdata\\test' # Raw (uninterpreted backslash)\n",
    ">>> rs\n",
    "'c:\\\\newdata\\\\test'\n",
    "```\n",
    "\n",
    "The string is the literal text enclosed inside, exactly as typed.\n",
    "This is useful in situations where the backslash has special\n",
    "significance. Example: filename, regular expressions, etc."
   ]
  },
  {
   "cell_type": "markdown",
   "id": "f8716a71-a8da-4ecd-8ce7-e4f4ff7cc057",
   "metadata": {},
   "source": [
    "### f-Strings\n",
    "\n",
    "A string with formatted expression substitution.\n",
    "\n",
    "```python\n",
    ">>> name = 'IBM'\n",
    ">>> shares = 100\n",
    ">>> price = 91.1\n",
    ">>> a = f'{name:>10s} {shares:10d} {price:10.2f}'\n",
    ">>> a\n",
    "'       IBM        100      91.10'\n",
    ">>> b = f'Cost = ${shares*price:0.2f}'\n",
    ">>> b\n",
    "'Cost = $9110.00'\n",
    ">>>\n",
    "```\n",
    "\n",
    "**Note: This requires Python 3.6 or newer.**  The meaning of the format codes\n",
    "is covered later."
   ]
  },
  {
   "cell_type": "markdown",
   "id": "ad19f3f2-82e6-4ee3-9e6a-b0d82dc1d561",
   "metadata": {},
   "source": [
    "## Exercises\n",
    "\n",
    "In these exercises, you'll experiment with operations on Python's\n",
    "string type.  You should do this at the Python interactive prompt\n",
    "where you can easily see the results.  Important note:\n",
    "\n",
    "> In exercises where you are supposed to interact with the interpreter,\n",
    "> `>>>` is the interpreter prompt that you get when Python wants\n",
    "> you to type a new statement.  Some statements in the exercise span\n",
    "> multiple lines--to get these statements to run, you may have to hit\n",
    "> 'return' a few times.  Just a reminder that you *DO NOT* type\n",
    "> the `>>>` when working these examples.\n",
    "\n",
    "Start by defining a string containing a series of stock ticker symbols like this:\n",
    "\n",
    "```python\n",
    ">>> symbols = 'AAPL,IBM,MSFT,YHOO,SCO'\n",
    ">>>\n",
    "```"
   ]
  },
  {
   "cell_type": "markdown",
   "id": "cb0bb200-3d22-4d58-b8ed-7694e75bcfc8",
   "metadata": {},
   "source": [
    "### Exercise 1.13: Extracting individual characters and substrings\n",
    "\n",
    "Strings are arrays of characters. Try extracting a few characters:\n",
    "\n",
    "```python\n",
    ">>> symbols[0]\n",
    "?\n",
    ">>> symbols[1]\n",
    "?\n",
    ">>> symbols[2]\n",
    "?\n",
    ">>> symbols[-1]        # Last character\n",
    "?\n",
    ">>> symbols[-2]        # Negative indices are from end of string\n",
    "?\n",
    "```\n",
    "\n",
    "In Python, strings are read-only.\n",
    "\n",
    "Verify this by trying to change the first character of `symbols` to a lower-case 'a'.\n",
    "\n",
    "```python\n",
    ">>> symbols[0] = 'a'\n",
    "Traceback (most recent call last):\n",
    "  File \"<stdin>\", line 1, in <module>\n",
    "TypeError: 'str' object does not support item assignment\n",
    ">>>\n",
    "```\n"
   ]
  },
  {
   "cell_type": "markdown",
   "id": "1b6e5e9e-cadd-4057-84f5-a17ddc67df17",
   "metadata": {},
   "source": [
    "### Exercise 1.14: String concatenation\n",
    "\n",
    "Although string data is read-only, you can always reassign a variable\n",
    "to a newly created string.\n",
    "\n",
    "Try the following statement which concatenates a new symbol \"GOOG\" to\n",
    "the end of `symbols`:\n",
    "\n",
    "```python\n",
    ">>> symbols = symbols + 'GOOG'\n",
    ">>> symbols\n",
    "'AAPL,IBM,MSFT,YHOO,SCOGOOG'\n",
    ">>>\n",
    "```\n",
    "\n",
    "Oops!  That's not what you wanted. Fix it so that the `symbols` variable holds the value `'AAPL,IBM,MSFT,YHOO,SCO,GOOG'`.\n",
    "\n",
    "```python\n",
    ">>> symbols = ? #symbols+,GOOG\n",
    ">>> symbols\n",
    "'AAPL,IBM,MSFT,YHOO,SCO,GOOG'\n",
    ">>>\n",
    "```\n",
    "\n",
    "Add `'HPQ'` to the front the string:\n",
    "\n",
    "```python\n",
    ">>> symbols = ? #HPQ, + symbols\n",
    ">>> symbols\n",
    "'HPQ,AAPL,IBM,MSFT,YHOO,SCO,GOOG'\n",
    ">>>\n",
    "```\n",
    "\n",
    "In these examples, it might look like the original string is being\n",
    "modified, in an apparent violation of strings being read only.  Not\n",
    "so. Operations on strings create an entirely new string each\n",
    "time. When the variable name `symbols` is reassigned, it points to the\n",
    "newly created string.  Afterwards, the old string is destroyed since\n",
    "it's not being used anymore."
   ]
  },
  {
   "cell_type": "markdown",
   "id": "a8685429-3653-40e1-b7ca-4af3716b16fb",
   "metadata": {},
   "source": [
    "### Exercise 1.15: Membership testing (substring testing)\n",
    "\n",
    "Experiment with the `in` operator to check for substrings.  At the\n",
    "interactive prompt, try these operations:\n",
    "\n",
    "```python\n",
    ">>> 'IBM' in symbols\n",
    "?\n",
    ">>> 'AA' in symbols\n",
    "True\n",
    ">>> 'CAT' in symbols\n",
    "?\n",
    ">>>\n",
    "```\n",
    "\n",
    "*Why did the check for `'AA'` return `True`?*"
   ]
  },
  {
   "cell_type": "markdown",
   "id": "eecfaaa4-f02a-4d0f-9e71-a6f0c0f2ce13",
   "metadata": {},
   "source": [
    "### Exercise 1.16: String Methods\n",
    "\n",
    "At the Python interactive prompt, try experimenting with some of the string methods.\n",
    "\n",
    "```python\n",
    ">>> symbols.lower()\n",
    "?\n",
    ">>> symbols\n",
    "?\n",
    ">>>\n",
    "```\n",
    "\n",
    "Remember, strings are always read-only.  If you want to save the result of an operation, you need to place it in a variable:\n",
    "\n",
    "```python\n",
    ">>> lowersyms = symbols.lower() # 'aapl,ibm,msft,yhoo,sco'\n",
    ">>>\n",
    "```\n",
    "\n",
    "Try some more operations:\n",
    "\n",
    "```python\n",
    ">>> symbols.find('MSFT')\n",
    "? # 9\n",
    ">>> symbols[13:17]\n",
    "? # ',YHO'\n",
    ">>> symbols = symbols.replace('SCO','DOA')\n",
    ">>> symbols\n",
    "? # AAPL,IBM,MSFT,YHOO,DOA\n",
    ">>> name = '   IBM   \\n'\n",
    ">>> name = name.strip()    # Remove surrounding whitespace\n",
    ">>> name\n",
    "? # IBM\n",
    ">>>\n",
    "```\n",
    "\n"
   ]
  },
  {
   "cell_type": "markdown",
   "id": "0895e254-8ab0-4faf-8db5-b2943e5f40a7",
   "metadata": {},
   "source": [
    "### Exercise 1.17: f-strings\n",
    "\n",
    "Sometimes you want to create a string and embed the values of\n",
    "variables into it.\n",
    "\n",
    "To do that, use an f-string. For example:\n",
    "\n",
    "```python\n",
    ">>> name = 'IBM'\n",
    ">>> shares = 100\n",
    ">>> price = 91.1\n",
    ">>> f'{shares} shares of {name} at ${price:0.2f}'\n",
    "'100 shares of IBM at $91.10'\n",
    ">>>\n",
    "```\n"
   ]
  },
  {
   "cell_type": "markdown",
   "id": "eb49bd81-17d1-485d-92a9-72dd38a2dfec",
   "metadata": {},
   "source": [
    "### Exercise 1.18: Regular Expressions\n",
    "\n",
    "One limitation of the basic string operations is that they don't\n",
    "support any kind of advanced pattern matching.  For that, you\n",
    "need to turn to Python's `re` module and regular expressions.\n",
    "Regular expression handling is a big topic, but here is a short\n",
    "example:\n",
    "\n",
    "```python\n",
    ">>> text = 'Today is 3/27/2018. Tomorrow is 3/28/2018.'\n",
    ">>> # Find all occurrences of a date\n",
    ">>> import re\n",
    ">>> re.findall(r'\\d+/\\d+/\\d+', text)\n",
    "['3/27/2018', '3/28/2018']\n",
    ">>> # Replace all occurrences of a date with replacement text\n",
    ">>> re.sub(r'(\\d+)/(\\d+)/(\\d+)', r'\\3-\\1-\\2', text)\n",
    "'Today is 2018-3-27. Tomorrow is 2018-3-28.'\n",
    ">>>\n",
    "```"
   ]
  },
  {
   "cell_type": "markdown",
   "id": "4a0b5852-2f9b-4edc-bba4-36120bed8950",
   "metadata": {},
   "source": [
    "As you start to experiment with the interpreter, you often want to\n",
    "know more about the operations supported by different objects.  For\n",
    "example, how do you find out what operations are available on a\n",
    "string?\n",
    "\n",
    "Depending on your Python environment, you might be able to see a list\n",
    "of available methods via tab-completion.  For example, try typing\n",
    "this:\n",
    "\n",
    "```python\n",
    ">>> s = 'hello world'\n",
    ">>> s.<tab key>\n",
    ">>>\n",
    "```\n",
    "\n",
    "If hitting tab doesn't do anything, you can fall back to the\n",
    "builtin-in `dir()` function.  For example:\n",
    "\n",
    "```python\n",
    ">>> s = 'hello'\n",
    ">>> dir(s)\n",
    "['__add__', '__class__', '__contains__', ..., 'find', 'format',\n",
    "'index', 'isalnum', 'isalpha', 'isdigit', 'islower', 'isspace',\n",
    "'istitle', 'isupper', 'join', 'ljust', 'lower', 'lstrip', 'partition',\n",
    "'replace', 'rfind', 'rindex', 'rjust', 'rpartition', 'rsplit',\n",
    "'rstrip', 'split', 'splitlines', 'startswith', 'strip', 'swapcase',\n",
    "'title', 'translate', 'upper', 'zfill']\n",
    ">>>\n",
    "```\n",
    "\n",
    "`dir()` produces a list of all operations that can appear after the `(.)`.\n",
    "Use the `help()` command to get more information about a specific operation:\n",
    "\n",
    "```python\n",
    ">>> help(s.upper)\n",
    "Help on built-in function upper:\n",
    "\n",
    "upper(...)\n",
    "    S.upper() -> string\n",
    "\n",
    "    Return a copy of the string S converted to uppercase.\n",
    ">>>\n",
    "```"
   ]
  },
  {
   "cell_type": "markdown",
   "id": "291e2435-22a5-42bc-a9fc-8fa70da0fc00",
   "metadata": {},
   "source": [
    "# 1.5 Lists\n",
    "\n",
    "This section introduces lists, Python's primary type for holding an ordered collection of values.\n",
    "\n",
    "### Creating a List\n",
    "\n",
    "Use square brackets to define a list literal:"
   ]
  },
  {
   "cell_type": "code",
   "execution_count": null,
   "id": "2d9587fb-855d-4e69-a92d-c37d14e8f811",
   "metadata": {},
   "outputs": [],
   "source": [
    "names = [ 'Elwood', 'Jake', 'Curtis' ]\n",
    "nums = [ 39, 38, 42, 65, 111]\n",
    "type(names)\n",
    "type(nums)"
   ]
  },
  {
   "cell_type": "markdown",
   "id": "27c3811b-b376-4966-a848-467fabbcd4d4",
   "metadata": {},
   "source": [
    "Sometimes lists are created by other methods.  For example, a string can be split into a\n",
    "list using the `split()` method:"
   ]
  },
  {
   "cell_type": "code",
   "execution_count": null,
   "id": "c461ba37-9736-4923-ba76-03b7e559b818",
   "metadata": {},
   "outputs": [],
   "source": [
    "line = 'GOOG,100,490.10'\n",
    "row = line.split(',')\n",
    "row"
   ]
  },
  {
   "cell_type": "markdown",
   "id": "9209be40-dac9-40a5-ad0b-546ea384ae11",
   "metadata": {},
   "source": [
    "### List operations\n",
    "\n",
    "Lists can hold items of any type. Add a new item using `append()`:"
   ]
  },
  {
   "cell_type": "code",
   "execution_count": null,
   "id": "33fd67ca-e0bd-4195-ae73-9905f266854d",
   "metadata": {},
   "outputs": [],
   "source": [
    "names.append('Murphy')    # Adds at end\n",
    "names.insert(2, 'Aretha') # Inserts in middle\n",
    "print(names)\n",
    "\n",
    "\n",
    "# Use `+` to concatenate lists:\n",
    "\n",
    "s = [1, 2, 3]\n",
    "t = ['a', 'b']\n",
    "s + t\n",
    "\n",
    "# Lists are indexed by integers. Starting at 0.\n",
    "\n",
    "names = [ 'Elwood', 'Jake', 'Curtis' ]\n",
    "\n",
    "names[0]  # 'Elwood'\n",
    "names[1]  # 'Jake'\n",
    "names[2]  # 'Curtis'\n"
   ]
  },
  {
   "cell_type": "code",
   "execution_count": null,
   "id": "3d625243-a717-40b1-94e3-0dc042af8ed6",
   "metadata": {},
   "outputs": [],
   "source": []
  }
 ],
 "metadata": {
  "kernelspec": {
   "display_name": "Python 3 (ipykernel)",
   "language": "python",
   "name": "python3"
  },
  "language_info": {
   "codemirror_mode": {
    "name": "ipython",
    "version": 3
   },
   "file_extension": ".py",
   "mimetype": "text/x-python",
   "name": "python",
   "nbconvert_exporter": "python",
   "pygments_lexer": "ipython3",
   "version": "3.12.1"
  },
  "widgets": {
   "application/vnd.jupyter.widget-state+json": {
    "state": {},
    "version_major": 2,
    "version_minor": 0
   }
  }
 },
 "nbformat": 4,
 "nbformat_minor": 5
}
