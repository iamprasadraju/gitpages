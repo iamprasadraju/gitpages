{
 "cells": [
  {
   "cell_type": "markdown",
   "id": "a9a9c58f-3d43-4ce7-bca9-2a8f9aaabd3e",
   "metadata": {},
   "source": [
    "# ***Python Crash Course by Google***"
   ]
  },
  {
   "cell_type": "markdown",
   "id": "2a203299-f546-4703-b9f3-53550d57552a",
   "metadata": {},
   "source": [
    "## ***Computer programming***\n",
    "\n",
    "The process of giving instruction to a computer to perform an action or set of action"
   ]
  },
  {
   "cell_type": "markdown",
   "id": "adb3d388-db84-44ba-bf03-6c514f0ff3ca",
   "metadata": {},
   "source": [
    "## Programming Languages\n",
    "\n",
    "The words and symbols we use to write instructions for computers to follow"
   ]
  },
  {
   "cell_type": "markdown",
   "id": "bb27c1a8-f228-48cf-922e-7f9ad42cc5ae",
   "metadata": {},
   "source": [
    "## Jupyter notebooks\n",
    " An open-source web application for creating and sharing documents containing live code, mathematical formulas, visualizations, and text \n",
    "### Cells\n",
    "The modular code input/output fields into which Jupyter Notebooks are partitioned\n",
    "     "
   ]
  },
  {
   "cell_type": "markdown",
   "id": "cafe5032-d59c-4efa-94ef-c4e4b43ba6cc",
   "metadata": {},
   "source": [
    "## Object-Oriented programming \n",
    "A programming system that is based around objects, which can contain both data and code that manipulates that data\n",
    "- **Object**\n",
    " An instance of a class; a fundamental building block of Python\n",
    "- **Method**\n",
    " A function that belongs to a class and typically performs an action or operation\n",
    "- **Attribute**\n",
    "  A value associated with an object or class which is referenced by name using dot notation\n",
    "\n",
    "\n",
    "## Core Python Classes\n",
    "- Integers\n",
    "- Floats\n",
    "- Strings\n",
    "- Booleans\n",
    "- Tuples\n",
    "- Sets\n",
    "- Frozen Sets\n",
    "- Functions\n",
    "- Ranges\n",
    "- None"
   ]
  },
  {
   "cell_type": "markdown",
   "id": "fdac9dfd-c349-428f-aa99-4301eff2ca17",
   "metadata": {},
   "source": [
    "## ***Chapter 1***\n",
    "- Variables\n",
    "- Data types\n",
    "- Functions\n",
    "- Conditional statements\n",
    "- Loops\n",
    "- Strings\n",
    "- Data structures"
   ]
  },
  {
   "cell_type": "markdown",
   "id": "230eb428-c29d-4d9e-ae71-41f7ebf256e6",
   "metadata": {},
   "source": [
    "### ***Variables***\n",
    "variable is a reserved memory location to store values.\n",
    "\n",
    "- A variable name must start with a letter or the underscore character\n",
    "- A variable name cannot start with a number\n",
    "- A variable name can only contain alpha-numeric characters and underscores (A-z, 0-9, and _ )\n",
    "- Variable names are case-sensitive (age, Age and AGE are three different variables)\n",
    "- A variable name cannot be any of the Python keywords.\n",
    "\n",
    "\n",
    "***Examples***\n",
    "\n",
    "*Valid Variable naming conventions --*\n",
    "\n",
    "```\n",
    "myvar = \"John\"\n",
    "my_var = \"John\"\n",
    "_my_var = \"John\"\n",
    "myVar = \"John\"\n",
    "MYVAR = \"John\"\n",
    "myvar2 = \"John\"\n",
    "```\n",
    "\n",
    "*Invalid Variable naming conventions --*\n",
    "\n",
    "```\n",
    "2myvar = \"John\"\n",
    "my-var = \"John\"\n",
    "my var = \"John\"\n",
    "```"
   ]
  },
  {
   "cell_type": "markdown",
   "id": "40247dad-ab6f-470b-9317-8f1221d2ba83",
   "metadata": {},
   "source": [
    "### ***Data type***\n",
    "An attribute that describes a piece of data based on it's values, its programming languge, or the operations it can perform\n",
    "\n",
    "```python\n",
    "type(12) # This is int(datatype)\n",
    "type(\"Prasad\") # This is string(datatype)\n",
    "type([1,2,3]) # This is list(datatype)\n",
    "type({1,2,3}) # This is set(datatype)\n",
    "type({\"name\":\"prasad\"}) # This is dict(datatype)\n",
    "```\n"
   ]
  },
  {
   "cell_type": "code",
   "execution_count": null,
   "id": "34bda4d4-4186-4784-9ecb-a9d76d10361b",
   "metadata": {},
   "outputs": [],
   "source": []
  }
 ],
 "metadata": {
  "kernelspec": {
   "display_name": "Python 3 (ipykernel)",
   "language": "python",
   "name": "python3"
  },
  "language_info": {
   "codemirror_mode": {
    "name": "ipython",
    "version": 3
   },
   "file_extension": ".py",
   "mimetype": "text/x-python",
   "name": "python",
   "nbconvert_exporter": "python",
   "pygments_lexer": "ipython3",
   "version": "3.12.1"
  },
  "widgets": {
   "application/vnd.jupyter.widget-state+json": {
    "state": {},
    "version_major": 2,
    "version_minor": 0
   }
  }
 },
 "nbformat": 4,
 "nbformat_minor": 5
}
